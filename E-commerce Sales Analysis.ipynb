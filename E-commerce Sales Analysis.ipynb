{
 "cells": [
  {
   "cell_type": "markdown",
   "id": "129b6d6e-a343-435b-bb39-9691288b9348",
   "metadata": {},
   "source": [
    "# Project Overview \n"
   ]
  },
  {
   "cell_type": "code",
   "execution_count": null,
   "id": "7048c506-307f-4192-a2dd-4fff77911a5f",
   "metadata": {},
   "outputs": [],
   "source": []
  }
 ],
 "metadata": {
  "kernelspec": {
   "display_name": "Python [conda env:base] *",
   "language": "python",
   "name": "conda-base-py"
  },
  "language_info": {
   "codemirror_mode": {
    "name": "ipython",
    "version": 3
   },
   "file_extension": ".py",
   "mimetype": "text/x-python",
   "name": "python",
   "nbconvert_exporter": "python",
   "pygments_lexer": "ipython3",
   "version": "3.12.7"
  }
 },
 "nbformat": 4,
 "nbformat_minor": 5
}
