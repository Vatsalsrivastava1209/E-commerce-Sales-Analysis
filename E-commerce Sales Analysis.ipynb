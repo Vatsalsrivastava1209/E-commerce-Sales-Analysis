{
 "cells": [
  {
   "cell_type": "markdown",
   "id": "129b6d6e-a343-435b-bb39-9691288b9348",
   "metadata": {},
   "source": [
    "# Overview \n"
   ]
  },
  {
   "cell_type": "markdown",
   "id": "d59d1aa6-521f-4368-bc36-68059fe298fc",
   "metadata": {},
   "source": [
    "The project analyzes sales data for an e-commerce company to uncover trends, optimize performance,and drive business decisions \n",
    "\n",
    "\n",
    "\n"
   ]
  },
  {
   "cell_type": "markdown",
   "id": "04c5fd3e-fec6-4983-a368-826787e461de",
   "metadata": {},
   "source": [
    "## Objective:\n",
    "The Superstore, an e-commerce retailer, wants to increase revenue and improve operational efficiency. The management needs insights into sales performance, customer behavior, and product profitability to make data-driven decisions.\n",
    "\n"
   ]
  },
  {
   "cell_type": "markdown",
   "id": "693bca0c-a5c3-4042-8f86-59e460a0a5bb",
   "metadata": {},
   "source": [
    "### Tools Used\n",
    "**Python:** Pandas for data cleaning and analysis, Matplotlib/Seaborn for visualizations.\n",
    "\n",
    "**SQL:** Querying data to extract metrics (e.g., sales by region).\n",
    "\n",
    "**Excel:** Pivot tables and basic charts for quick analysis.\n",
    "\n",
    "**Tableau:** Creating interactive dashboards for stakeholder-friendly visuals.\n",
    "\n",
    "**GitHub:** Hosting code and documentation.\n",
    "\n"
   ]
  },
  {
   "cell_type": "markdown",
   "id": "eaba0203-fa55-42ea-9883-060ad2d77d9c",
   "metadata": {},
   "source": [
    "### Derived Data : \n",
    "**Source:** Download the Superstore Sales Dataset from Kaggle (CSV file, ~10,000 rows).\n",
    "\n",
    "**Columns:** Order ID, Order Date, Product Name, Category, Sub-Category, Customer ID, Segment, Region, Sales, Quantity, Profit, Discount.\n",
    "\n"
   ]
  },
  {
   "cell_type": "markdown",
   "id": "10442e70-632c-481b-ac51-67c99ea9b3c5",
   "metadata": {},
   "source": [
    "\n",
    "\n",
    "**Python (Matplotlib/Seaborn):**\n",
    "Create bar charts for sales by category.\n",
    "\n",
    "Plot time-series trends for monthly sales.\n",
    "\n",
    "**Tableau:**\n",
    "Build an interactive dashboard with filters for region, category, and time period.\n",
    "\n",
    "Include charts like sales by region (map), profit by sub-category (bar), and customer segment breakdown (pie).\n",
    "\n"
   ]
  },
  {
   "cell_type": "code",
   "execution_count": null,
   "id": "220f6568-6ab4-4164-b33a-a2b6c2d5f28a",
   "metadata": {},
   "outputs": [],
   "source": []
  },
  {
   "cell_type": "code",
   "execution_count": null,
   "id": "fea774b0-cefb-4969-8915-1130c047a5ec",
   "metadata": {},
   "outputs": [],
   "source": []
  },
  {
   "cell_type": "code",
   "execution_count": null,
   "id": "ab9387fd-9569-43cc-bb5b-7ae220161150",
   "metadata": {},
   "outputs": [],
   "source": []
  },
  {
   "cell_type": "code",
   "execution_count": null,
   "id": "aade82f6-2b44-44d9-a218-43c366db64c8",
   "metadata": {},
   "outputs": [],
   "source": []
  }
 ],
 "metadata": {
  "kernelspec": {
   "display_name": "Python [conda env:base] *",
   "language": "python",
   "name": "conda-base-py"
  },
  "language_info": {
   "codemirror_mode": {
    "name": "ipython",
    "version": 3
   },
   "file_extension": ".py",
   "mimetype": "text/x-python",
   "name": "python",
   "nbconvert_exporter": "python",
   "pygments_lexer": "ipython3",
   "version": "3.12.7"
  }
 },
 "nbformat": 4,
 "nbformat_minor": 5
}
